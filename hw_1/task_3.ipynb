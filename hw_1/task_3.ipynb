{
 "cells": [
  {
   "cell_type": "code",
   "execution_count": 1090,
   "metadata": {
    "scrolled": true
   },
   "outputs": [],
   "source": [
    "import math\n",
    "import numpy as np\n",
    "import random\n",
    "from scipy.stats import norm"
   ]
  },
  {
   "cell_type": "code",
   "execution_count": 1102,
   "metadata": {},
   "outputs": [],
   "source": [
    "alpha = 0.02\n",
    "beta = 0.1\n",
    "a0 = 10\n",
    "a1 = 11\n",
    "c0 = beta / (1 - alpha)\n",
    "c1 = (1 - beta) / alpha"
   ]
  },
  {
   "cell_type": "code",
   "execution_count": 1099,
   "metadata": {},
   "outputs": [
    {
     "name": "stdout",
     "output_type": "stream",
     "text": [
      "c0: 0.10204081632653061\n",
      "c1: 45.0\n"
     ]
    }
   ],
   "source": [
    "print('c0: ' + str(c0))\n",
    "print('c1: ' + str(c1))"
   ]
  },
  {
   "cell_type": "code",
   "execution_count": 1093,
   "metadata": {},
   "outputs": [],
   "source": [
    "def likelihood(x, a):\n",
    "    return np.prod(norm.pdf(x, loc = a))"
   ]
  },
  {
   "cell_type": "code",
   "execution_count": 1094,
   "metadata": {},
   "outputs": [],
   "source": [
    "def Wald_test(rv, a0, a1, c0, c1):\n",
    "    for i in range(len(rv)) :\n",
    "        z = likelihood(rv[:i + 1], a1) / likelihood(rv[:i + 1], a0)\n",
    "#         print(z)\n",
    "        if z < c0:\n",
    "            return [i, 'H0']\n",
    "        if z > c1:\n",
    "            return [i, 'H1'] \n",
    "    return [i, 'not enough elements']        "
   ]
  },
  {
   "cell_type": "code",
   "execution_count": 1095,
   "metadata": {},
   "outputs": [],
   "source": [
    "def model(weight0, a0, a1, c0, c1):\n",
    "    size = 1000\n",
    "    rv0 = norm.rvs(loc = a0, size = int(1000 * weight0))\n",
    "    rv1 = norm.rvs(loc = a1, size = int(1000 * (1 - weight0)))\n",
    "    rv = np.concatenate((rv0, rv1))\n",
    "    random.shuffle(rv)\n",
    "    return Wald_test(rv, a0, a1, c0, c1)"
   ]
  },
  {
   "cell_type": "code",
   "execution_count": 1100,
   "metadata": {},
   "outputs": [],
   "source": [
    "def calc_min_obs(weight0, a0, a1, c0, c1):\n",
    "    h0 = []\n",
    "    h1 = []\n",
    "    for i in range(5000):\n",
    "        result = model(weight0, a0, a1, c0, c1)\n",
    "        if(result[1] == 'H0'): h0.append(result[0])\n",
    "        if(result[1] == 'H1'): h1.append(result[0])       \n",
    "    print('Mean minimum number of observations to accept H0: ' + str(np.mean(h0)))\n",
    "    print('Mean minimum number of observations to accept H1: ' + str(np.mean(h1)))\n"
   ]
  },
  {
   "cell_type": "code",
   "execution_count": 1103,
   "metadata": {},
   "outputs": [
    {
     "name": "stdout",
     "output_type": "stream",
     "text": [
      "\n",
      "Weight of rvs0 in mix: 0.1\n",
      "Mean minimum number of observations to accept H0: 5.766114180478821\n",
      "Mean minimum number of observations to accept H1: 8.382095579986538\n",
      "\n",
      "Weight of rvs0 in mix: 0.2\n",
      "Mean minimum number of observations to accept H0: 6.62032598274209\n",
      "Mean minimum number of observations to accept H1: 9.513520343694719\n",
      "\n",
      "Weight of rvs0 in mix: 0.30000000000000004\n",
      "Mean minimum number of observations to accept H0: 7.493781094527363\n",
      "Mean minimum number of observations to accept H1: 10.456662735849056\n",
      "\n",
      "Weight of rvs0 in mix: 0.4\n",
      "Mean minimum number of observations to accept H0: 8.22429906542056\n",
      "Mean minimum number of observations to accept H1: 11.313839447875045\n",
      "\n",
      "Weight of rvs0 in mix: 0.5\n",
      "Mean minimum number of observations to accept H0: 8.502824858757062\n",
      "Mean minimum number of observations to accept H1: 11.235560020090407\n",
      "\n",
      "Weight of rvs0 in mix: 0.6000000000000001\n",
      "Mean minimum number of observations to accept H0: 8.343674130024278\n",
      "Mean minimum number of observations to accept H1: 10.851508120649651\n",
      "\n",
      "Weight of rvs0 in mix: 0.7000000000000001\n",
      "Mean minimum number of observations to accept H0: 7.617041420118343\n",
      "Mean minimum number of observations to accept H1: 10.64516129032258\n",
      "\n",
      "Weight of rvs0 in mix: 0.8\n",
      "Mean minimum number of observations to accept H0: 6.719877542094905\n",
      "Mean minimum number of observations to accept H1: 9.646370023419204\n",
      "\n",
      "Weight of rvs0 in mix: 0.9\n",
      "Mean minimum number of observations to accept H0: 5.725526641883519\n",
      "Mean minimum number of observations to accept H1: 8.873417721518987\n"
     ]
    }
   ],
   "source": [
    "for weight in range(1, 10, 1):\n",
    "    print('\\nWeight of rvs0 in mix: ' + str(weight * 0.1))\n",
    "    calc_min_obs(weight * 0.1, a0, a1, c0, c1)"
   ]
  }
 ],
 "metadata": {
  "kernelspec": {
   "display_name": "Python 3",
   "language": "python",
   "name": "python3"
  },
  "language_info": {
   "codemirror_mode": {
    "name": "ipython",
    "version": 3
   },
   "file_extension": ".py",
   "mimetype": "text/x-python",
   "name": "python",
   "nbconvert_exporter": "python",
   "pygments_lexer": "ipython3",
   "version": "3.6.7"
  }
 },
 "nbformat": 4,
 "nbformat_minor": 2
}
