{
 "cells": [
  {
   "cell_type": "code",
   "execution_count": 28,
   "metadata": {},
   "outputs": [],
   "source": [
    "import math\n",
    "import numpy as np\n",
    "from scipy.stats import norm\n",
    "import matplotlib.pyplot as plt"
   ]
  },
  {
   "cell_type": "code",
   "execution_count": 45,
   "metadata": {},
   "outputs": [
    {
     "data": {
      "text/plain": [
       "[5000, 3000, 2000]"
      ]
     },
     "metadata": {},
     "output_type": "display_data"
    },
    {
     "data": {
      "text/plain": [
       "[array([4.10577481, 4.97818589, 2.40565023, ..., 4.93900482, 5.65335051,\n",
       "        3.77800895]),\n",
       " array([ 9.77623601, 10.60080041,  5.68989404, ...,  6.33784917,\n",
       "        11.82222219, 10.71184449]),\n",
       " array([-16.74379021,  -7.35806659,   0.64758724, ..., -16.44389084,\n",
       "        -18.81719743,  -3.31944467])]"
      ]
     },
     "metadata": {},
     "output_type": "display_data"
    },
    {
     "data": {
      "text/plain": [
       "array([ 9.77623601, 10.60080041,  5.68989404, ...,  4.93900482,\n",
       "        5.65335051,  3.77800895])"
      ]
     },
     "metadata": {},
     "output_type": "display_data"
    }
   ],
   "source": [
    "size = 10000\n",
    "w1 = 0.5\n",
    "w2 = 0.3\n",
    "w3 = 0.2\n",
    "rv1 = norm.rvs(loc = 3, scale = 2, size = int(size * w1))\n",
    "rv2 = norm.rvs(loc = 10, scale = 5, size = int(size * w2))\n",
    "rv3 = norm.rvs(loc = -10, scale = 9, size = int(size * w3))\n",
    "w = [ int(size *w1), int(size *w2), int(size *w3)]\n",
    "display(w)\n",
    "rv = [rv1, rv2, rv3]\n",
    "display(rv)\n",
    "display(np.concatenate((\n",
    "    np.random.choice(rv[:], 2, replace = False))\n",
    "))\n"
   ]
  },
  {
   "cell_type": "code",
   "execution_count": 46,
   "metadata": {},
   "outputs": [],
   "source": [
    "def test_n(rv, w, n = 1000, sizes = [40, 500]):\n",
    "    rva = np.concatenate((rv))\n",
    "    muRva = list()\n",
    "    stdRva = list()\n",
    "    \n",
    "    muProp = list()\n",
    "    stdProp = list()\n",
    "    \n",
    "    muOpt = list()\n",
    "    stdOpt = list()\n",
    "    \n",
    "    stdK = list()\n",
    "    sumToDivide = 0\n",
    "    for i in range(0, len(rv)):\n",
    "        stdK.append(np.std(rv[i]))\n",
    "        sumToDivide += (w[i] * np.std(rv[i]))\n",
    "        \n",
    "    for size in sizes:\n",
    "        for i in range(0, n):\n",
    "            rvaSample = np.random.choice(rva, size, replace = False)\n",
    "            muRva.append(np.mean(rvaSample))\n",
    "            stdRva.append(np.std(rvaSample))\n",
    "            \n",
    "            propSample = list()\n",
    "            for j in range(0, len(rv)):\n",
    "                propSample = np.concatenate((\n",
    "                    propSample,\n",
    "                    np.random.choice(rv[j], int(size * w[j]), replace = False)\n",
    "                ))\n",
    "            muProp.append(np.mean(propSample))\n",
    "            stdProp.append(np.std(propSample))\n",
    "            \n",
    "            optSample = list()\n",
    "            for j in range(0, len(rv)):\n",
    "                sizeK = int(size * w[j] * stdK[j] / sumToDivide)\n",
    "                optSample = np.concatenate((\n",
    "                    optSample,\n",
    "                    np.random.choice(rv[j], sizeK, replace = False)\n",
    "                ))\n",
    "            muOpt.append(np.mean(optSample))\n",
    "            stdOpt.append(np.std(optSample))\n",
    "            \n",
    "    return muRva, stdRva, muProp, stdProp, muOpt, stdOpt"
   ]
  },
  {
   "cell_type": "code",
   "execution_count": 47,
   "metadata": {
    "scrolled": true
   },
   "outputs": [],
   "source": [
    "muRva, stdRva, muProp, stdProp, muOpt, stdOpt = test_n([rv1, rv2, rv3], [w1, w2, w3])\n",
    "\n"
   ]
  },
  {
   "cell_type": "code",
   "execution_count": 48,
   "metadata": {},
   "outputs": [
    {
     "data": {
      "text/plain": [
       "{'whiskers': [<matplotlib.lines.Line2D at 0x7f0ebe0bc6a0>,\n",
       "  <matplotlib.lines.Line2D at 0x7f0ebe0bc9e8>,\n",
       "  <matplotlib.lines.Line2D at 0x7f0ebe0c4dd8>,\n",
       "  <matplotlib.lines.Line2D at 0x7f0ebe0cd160>,\n",
       "  <matplotlib.lines.Line2D at 0x7f0ebe0d6550>,\n",
       "  <matplotlib.lines.Line2D at 0x7f0ebe0d6898>],\n",
       " 'caps': [<matplotlib.lines.Line2D at 0x7f0ebe0bcd30>,\n",
       "  <matplotlib.lines.Line2D at 0x7f0ebe0c40b8>,\n",
       "  <matplotlib.lines.Line2D at 0x7f0ebe0cd4a8>,\n",
       "  <matplotlib.lines.Line2D at 0x7f0ebe0cd7f0>,\n",
       "  <matplotlib.lines.Line2D at 0x7f0ebe0d6be0>,\n",
       "  <matplotlib.lines.Line2D at 0x7f0ebe0d6f28>],\n",
       " 'boxes': [<matplotlib.lines.Line2D at 0x7f0ebe0bc550>,\n",
       "  <matplotlib.lines.Line2D at 0x7f0ebe0c4a58>,\n",
       "  <matplotlib.lines.Line2D at 0x7f0ebe0d61d0>],\n",
       " 'medians': [<matplotlib.lines.Line2D at 0x7f0ebe0c4400>,\n",
       "  <matplotlib.lines.Line2D at 0x7f0ebe0cdb38>,\n",
       "  <matplotlib.lines.Line2D at 0x7f0ebe0e02b0>],\n",
       " 'fliers': [<matplotlib.lines.Line2D at 0x7f0ebe0c4748>,\n",
       "  <matplotlib.lines.Line2D at 0x7f0ebe0cde80>,\n",
       "  <matplotlib.lines.Line2D at 0x7f0ebe0e05f8>],\n",
       " 'means': []}"
      ]
     },
     "execution_count": 48,
     "metadata": {},
     "output_type": "execute_result"
    },
    {
     "data": {
      "image/png": "[encoded data removed]",
      "text/plain": [
       "<Figure size 432x288 with 2 Axes>"
      ]
     },
     "metadata": {
      "needs_background": "light"
     },
     "output_type": "display_data"
    }
   ],
   "source": [
    "ax1 = plt.subplot(121)\n",
    "plt.boxplot([muRva, muProp, muOpt])\n",
    "\n",
    "plt.subplot(122)\n",
    "plt.boxplot([stdRva, stdProp, stdOpt])\n",
    "\n",
    "\n",
    "\n",
    "# ax1 = plt.subplot(231)\n",
    "# plt.boxplot(muRva)\n",
    "\n",
    "# ax2 = plt.subplot(232, sharey = ax1)\n",
    "# plt.boxplot(muProp)\n",
    "\n",
    "# ax3 = plt.subplot(233, sharey = ax1)\n",
    "# plt.boxplot(muOpt)\n",
    "\n",
    "# ax4 = plt.subplot(234)\n",
    "# plt.boxplot(stdRva)\n",
    "\n",
    "# ax5 = plt.subplot(235, sharey = ax4)\n",
    "# plt.boxplot(stdProp)\n",
    "\n",
    "# ax6 = plt.subplot(236, sharey = ax4)\n",
    "# plt.boxplot(stdOpt)\n",
    "\n",
    "# axs[0].boxplot(stdRva)\n",
    "# axs[1].boxplot(stdProp, sharex = axs)\n",
    "# axs[2].boxplot(stdOpt)"
   ]
  },
  {
   "cell_type": "code",
   "execution_count": 6,
   "metadata": {},
   "outputs": [
    {
     "data": {
      "text/plain": [
       "0.09449655411167981"
      ]
     },
     "metadata": {},
     "output_type": "display_data"
    },
    {
     "data": {
      "text/plain": [
       "0.09428503654160252"
      ]
     },
     "metadata": {},
     "output_type": "display_data"
    },
    {
     "data": {
      "text/plain": [
       "0.09431088198603912"
      ]
     },
     "metadata": {},
     "output_type": "display_data"
    }
   ],
   "source": [
    "display(\n",
    "    np.std(stdRva[int(len(stdRva)/2):]),\n",
    "    np.std(stdProp[int(len(stdProp)/2):]),\n",
    "    np.std(stdOpt[int(len(stdOpt)/2):]))"
   ]
  }
 ],
 "metadata": {
  "kernelspec": {
   "display_name": "Python 3",
   "language": "python",
   "name": "python3"
  },
  "language_info": {
   "codemirror_mode": {
    "name": "ipython",
    "version": 3
   },
   "file_extension": ".py",
   "mimetype": "text/x-python",
   "name": "python",
   "nbconvert_exporter": "python",
   "pygments_lexer": "ipython3",
   "version": "3.6.7"
  }
 },
 "nbformat": 4,
 "nbformat_minor": 2
}
